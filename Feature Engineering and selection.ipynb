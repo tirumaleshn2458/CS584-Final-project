{
 "cells": [
  {
   "cell_type": "code",
   "execution_count": 218,
   "id": "611d02f9-834f-4f0c-bb93-eae21e104d08",
   "metadata": {},
   "outputs": [],
   "source": [
    "import pandas as pd\n",
    "import numpy as np\n",
    "import matplotlib.pyplot as plt\n",
    "import seaborn as sns\n",
    "import warnings\n",
    "from sklearn.preprocessing import StandardScaler\n",
    "warnings.filterwarnings('ignore')"
   ]
  },
  {
   "cell_type": "code",
   "execution_count": 219,
   "id": "80e7f98d-e049-482f-a5b1-e03b6078c73e",
   "metadata": {},
   "outputs": [],
   "source": [
    "pd.set_option('display.max_columns',100)"
   ]
  },
  {
   "cell_type": "code",
   "execution_count": 220,
   "id": "cc394c3e-d1cc-4f41-ad86-a7ce6528a8fc",
   "metadata": {},
   "outputs": [],
   "source": [
    "data_frame=pd.read_csv('baseball_data.csv')"
   ]
  },
  {
   "cell_type": "code",
   "execution_count": 221,
   "id": "ff1590af-582a-44bb-affc-8bfe7c8dd8d0",
   "metadata": {},
   "outputs": [
    {
     "data": {
      "text/html": [
       "<div>\n",
       "<style scoped>\n",
       "    .dataframe tbody tr th:only-of-type {\n",
       "        vertical-align: middle;\n",
       "    }\n",
       "\n",
       "    .dataframe tbody tr th {\n",
       "        vertical-align: top;\n",
       "    }\n",
       "\n",
       "    .dataframe thead th {\n",
       "        text-align: right;\n",
       "    }\n",
       "</style>\n",
       "<table border=\"1\" class=\"dataframe\">\n",
       "  <thead>\n",
       "    <tr style=\"text-align: right;\">\n",
       "      <th></th>\n",
       "      <th>bip_id</th>\n",
       "      <th>game_date</th>\n",
       "      <th>home_team</th>\n",
       "      <th>away_team</th>\n",
       "      <th>batter_team</th>\n",
       "      <th>batter_name</th>\n",
       "      <th>pitcher_name</th>\n",
       "      <th>batter_id</th>\n",
       "      <th>pitcher_id</th>\n",
       "      <th>is_batter_lefty</th>\n",
       "      <th>is_pitcher_lefty</th>\n",
       "      <th>bb_type</th>\n",
       "      <th>bearing</th>\n",
       "      <th>pitch_name</th>\n",
       "      <th>park</th>\n",
       "      <th>inning</th>\n",
       "      <th>outs_when_up</th>\n",
       "      <th>balls</th>\n",
       "      <th>strikes</th>\n",
       "      <th>plate_x</th>\n",
       "      <th>plate_z</th>\n",
       "      <th>pitch_mph</th>\n",
       "      <th>launch_speed</th>\n",
       "      <th>launch_angle</th>\n",
       "      <th>is_home_run</th>\n",
       "    </tr>\n",
       "  </thead>\n",
       "  <tbody>\n",
       "    <tr>\n",
       "      <th>0</th>\n",
       "      <td>20</td>\n",
       "      <td>2020-08-10</td>\n",
       "      <td>COL</td>\n",
       "      <td>ARI</td>\n",
       "      <td>COL</td>\n",
       "      <td>story, trevor</td>\n",
       "      <td>ray, robbie</td>\n",
       "      <td>596115</td>\n",
       "      <td>592662</td>\n",
       "      <td>0</td>\n",
       "      <td>1</td>\n",
       "      <td>line_drive</td>\n",
       "      <td>left</td>\n",
       "      <td>Changeup</td>\n",
       "      <td>7</td>\n",
       "      <td>1</td>\n",
       "      <td>1</td>\n",
       "      <td>0</td>\n",
       "      <td>1</td>\n",
       "      <td>-0.65</td>\n",
       "      <td>2.09</td>\n",
       "      <td>89.5</td>\n",
       "      <td>105.4</td>\n",
       "      <td>28.0</td>\n",
       "      <td>1</td>\n",
       "    </tr>\n",
       "    <tr>\n",
       "      <th>1</th>\n",
       "      <td>22</td>\n",
       "      <td>2020-07-30</td>\n",
       "      <td>ARI</td>\n",
       "      <td>LAD</td>\n",
       "      <td>LAD</td>\n",
       "      <td>seager, corey</td>\n",
       "      <td>ray, robbie</td>\n",
       "      <td>608369</td>\n",
       "      <td>592662</td>\n",
       "      <td>1</td>\n",
       "      <td>1</td>\n",
       "      <td>line_drive</td>\n",
       "      <td>right</td>\n",
       "      <td>Slider</td>\n",
       "      <td>0</td>\n",
       "      <td>2</td>\n",
       "      <td>0</td>\n",
       "      <td>1</td>\n",
       "      <td>1</td>\n",
       "      <td>-0.26</td>\n",
       "      <td>3.01</td>\n",
       "      <td>84.8</td>\n",
       "      <td>104.9</td>\n",
       "      <td>NaN</td>\n",
       "      <td>1</td>\n",
       "    </tr>\n",
       "    <tr>\n",
       "      <th>2</th>\n",
       "      <td>26</td>\n",
       "      <td>2020-07-30</td>\n",
       "      <td>ARI</td>\n",
       "      <td>LAD</td>\n",
       "      <td>LAD</td>\n",
       "      <td>pollock, aj</td>\n",
       "      <td>ray, robbie</td>\n",
       "      <td>572041</td>\n",
       "      <td>592662</td>\n",
       "      <td>0</td>\n",
       "      <td>1</td>\n",
       "      <td>fly_ball</td>\n",
       "      <td>left</td>\n",
       "      <td>4-Seam Fastball</td>\n",
       "      <td>0</td>\n",
       "      <td>1</td>\n",
       "      <td>2</td>\n",
       "      <td>1</td>\n",
       "      <td>1</td>\n",
       "      <td>-0.42</td>\n",
       "      <td>2.98</td>\n",
       "      <td>92.1</td>\n",
       "      <td>101.7</td>\n",
       "      <td>38.0</td>\n",
       "      <td>1</td>\n",
       "    </tr>\n",
       "    <tr>\n",
       "      <th>3</th>\n",
       "      <td>42</td>\n",
       "      <td>2020-08-05</td>\n",
       "      <td>ARI</td>\n",
       "      <td>HOU</td>\n",
       "      <td>HOU</td>\n",
       "      <td>springer, george</td>\n",
       "      <td>ray, robbie</td>\n",
       "      <td>543807</td>\n",
       "      <td>592662</td>\n",
       "      <td>0</td>\n",
       "      <td>1</td>\n",
       "      <td>line_drive</td>\n",
       "      <td>left</td>\n",
       "      <td>4-Seam Fastball</td>\n",
       "      <td>0</td>\n",
       "      <td>5</td>\n",
       "      <td>0</td>\n",
       "      <td>3</td>\n",
       "      <td>1</td>\n",
       "      <td>-0.40</td>\n",
       "      <td>2.76</td>\n",
       "      <td>94.0</td>\n",
       "      <td>104.5</td>\n",
       "      <td>24.0</td>\n",
       "      <td>1</td>\n",
       "    </tr>\n",
       "    <tr>\n",
       "      <th>4</th>\n",
       "      <td>48</td>\n",
       "      <td>2020-08-05</td>\n",
       "      <td>ARI</td>\n",
       "      <td>HOU</td>\n",
       "      <td>HOU</td>\n",
       "      <td>tucker, kyle</td>\n",
       "      <td>ray, robbie</td>\n",
       "      <td>663656</td>\n",
       "      <td>592662</td>\n",
       "      <td>1</td>\n",
       "      <td>1</td>\n",
       "      <td>line_drive</td>\n",
       "      <td>center</td>\n",
       "      <td>4-Seam Fastball</td>\n",
       "      <td>0</td>\n",
       "      <td>2</td>\n",
       "      <td>0</td>\n",
       "      <td>1</td>\n",
       "      <td>1</td>\n",
       "      <td>-0.04</td>\n",
       "      <td>2.16</td>\n",
       "      <td>93.8</td>\n",
       "      <td>105.4</td>\n",
       "      <td>27.0</td>\n",
       "      <td>1</td>\n",
       "    </tr>\n",
       "  </tbody>\n",
       "</table>\n",
       "</div>"
      ],
      "text/plain": [
       "   bip_id   game_date home_team away_team batter_team       batter_name  \\\n",
       "0      20  2020-08-10       COL       ARI         COL     story, trevor   \n",
       "1      22  2020-07-30       ARI       LAD         LAD     seager, corey   \n",
       "2      26  2020-07-30       ARI       LAD         LAD       pollock, aj   \n",
       "3      42  2020-08-05       ARI       HOU         HOU  springer, george   \n",
       "4      48  2020-08-05       ARI       HOU         HOU      tucker, kyle   \n",
       "\n",
       "  pitcher_name  batter_id  pitcher_id  is_batter_lefty  is_pitcher_lefty  \\\n",
       "0  ray, robbie     596115      592662                0                 1   \n",
       "1  ray, robbie     608369      592662                1                 1   \n",
       "2  ray, robbie     572041      592662                0                 1   \n",
       "3  ray, robbie     543807      592662                0                 1   \n",
       "4  ray, robbie     663656      592662                1                 1   \n",
       "\n",
       "      bb_type bearing       pitch_name  park  inning  outs_when_up  balls  \\\n",
       "0  line_drive    left         Changeup     7       1             1      0   \n",
       "1  line_drive   right           Slider     0       2             0      1   \n",
       "2    fly_ball    left  4-Seam Fastball     0       1             2      1   \n",
       "3  line_drive    left  4-Seam Fastball     0       5             0      3   \n",
       "4  line_drive  center  4-Seam Fastball     0       2             0      1   \n",
       "\n",
       "   strikes  plate_x  plate_z  pitch_mph  launch_speed  launch_angle  \\\n",
       "0        1    -0.65     2.09       89.5         105.4          28.0   \n",
       "1        1    -0.26     3.01       84.8         104.9           NaN   \n",
       "2        1    -0.42     2.98       92.1         101.7          38.0   \n",
       "3        1    -0.40     2.76       94.0         104.5          24.0   \n",
       "4        1    -0.04     2.16       93.8         105.4          27.0   \n",
       "\n",
       "   is_home_run  \n",
       "0            1  \n",
       "1            1  \n",
       "2            1  \n",
       "3            1  \n",
       "4            1  "
      ]
     },
     "execution_count": 221,
     "metadata": {},
     "output_type": "execute_result"
    }
   ],
   "source": [
    "data_frame.head()"
   ]
  },
  {
   "cell_type": "markdown",
   "id": "458f0e1f-c0c8-49d4-a3ac-e202d4e677a9",
   "metadata": {},
   "source": [
    "## Data Preprocessing"
   ]
  },
  {
   "cell_type": "markdown",
   "id": "742d41ee-aa08-43e0-bed6-e7e8dc73d77c",
   "metadata": {},
   "source": [
    "### Data Cleaning"
   ]
  },
  {
   "cell_type": "markdown",
   "id": "1e6386dc-22b6-469c-b136-aaa96c174742",
   "metadata": {},
   "source": [
    "### Removing the unwanted columns such as bip_id, batter_name,pitcher_name,game_date"
   ]
  },
  {
   "cell_type": "code",
   "execution_count": 222,
   "id": "cb9f5e5a-5b62-459c-9eae-091bbc884db7",
   "metadata": {},
   "outputs": [],
   "source": [
    "data_frame = data_frame.drop(['bip_id','batter_name','pitcher_name','game_date'],axis=1)"
   ]
  },
  {
   "cell_type": "code",
   "execution_count": 223,
   "id": "a80f9d35-4dfd-4edc-87f6-3367cd883870",
   "metadata": {},
   "outputs": [],
   "source": [
    "#Removing the duplicate values\n",
    "data_frame.drop_duplicates(inplace=True)"
   ]
  },
  {
   "cell_type": "code",
   "execution_count": 224,
   "id": "4c936318-a431-4e78-aaca-39d9e9c86e40",
   "metadata": {},
   "outputs": [],
   "source": [
    "### Handling missing values"
   ]
  },
  {
   "cell_type": "code",
   "execution_count": 225,
   "id": "d2ee329b-282c-49da-8091-c1d330f71bee",
   "metadata": {},
   "outputs": [
    {
     "data": {
      "text/html": [
       "<div>\n",
       "<style scoped>\n",
       "    .dataframe tbody tr th:only-of-type {\n",
       "        vertical-align: middle;\n",
       "    }\n",
       "\n",
       "    .dataframe tbody tr th {\n",
       "        vertical-align: top;\n",
       "    }\n",
       "\n",
       "    .dataframe thead th {\n",
       "        text-align: right;\n",
       "    }\n",
       "</style>\n",
       "<table border=\"1\" class=\"dataframe\">\n",
       "  <thead>\n",
       "    <tr style=\"text-align: right;\">\n",
       "      <th></th>\n",
       "      <th>Column</th>\n",
       "      <th>Percentage</th>\n",
       "    </tr>\n",
       "  </thead>\n",
       "  <tbody>\n",
       "    <tr>\n",
       "      <th>18</th>\n",
       "      <td>launch_speed</td>\n",
       "      <td>0.265391</td>\n",
       "    </tr>\n",
       "    <tr>\n",
       "      <th>19</th>\n",
       "      <td>launch_angle</td>\n",
       "      <td>0.262098</td>\n",
       "    </tr>\n",
       "  </tbody>\n",
       "</table>\n",
       "</div>"
      ],
      "text/plain": [
       "          Column  Percentage\n",
       "18  launch_speed    0.265391\n",
       "19  launch_angle    0.262098"
      ]
     },
     "execution_count": 225,
     "metadata": {},
     "output_type": "execute_result"
    }
   ],
   "source": [
    "def null_count_gen(data_frame):\n",
    "    null_count_values=data_frame.isnull().sum().values\n",
    "    null_count_index = data_frame.isnull().sum().index\n",
    "    null_count_data = pd.DataFrame({'Column':null_count_index,'Percentage':list(null_count_values/len(data_frame))})\n",
    "    null_count_data = null_count_data[null_count_data['Percentage']>0].sort_values('Percentage',ascending=False)\n",
    "    return null_count_data\n",
    "null_count_data = null_count_gen(data_frame)\n",
    "null_count_data"
   ]
  },
  {
   "cell_type": "code",
   "execution_count": 226,
   "id": "0e65d8a6-d2a1-4fa8-9037-d60779437f3e",
   "metadata": {},
   "outputs": [],
   "source": [
    "#imputing the values for launch_speed\n",
    "data_frame['launch_speed']=data_frame['launch_speed'].fillna(data_frame['launch_speed'].mode()[0],axis=0)"
   ]
  },
  {
   "cell_type": "code",
   "execution_count": 227,
   "id": "ebc7f997-cbee-4e9c-a060-f3f457cc75e9",
   "metadata": {},
   "outputs": [
    {
     "data": {
      "image/png": "[encoded data removed]",
      "text/plain": [
       "<Figure size 640x480 with 1 Axes>"
      ]
     },
     "metadata": {},
     "output_type": "display_data"
    }
   ],
   "source": [
    "#Checking for launch_angle\n",
    "sns.boxplot(data_frame['launch_angle']);"
   ]
  },
  {
   "cell_type": "code",
   "execution_count": 228,
   "id": "de563999-3992-42a1-b085-a3e1b510f46f",
   "metadata": {},
   "outputs": [],
   "source": [
    "#Same for launch_angle, we need to fill the null values using the mode value of the launch_angle column. \n",
    "#So, there no more outliers added to the column"
   ]
  },
  {
   "cell_type": "code",
   "execution_count": 229,
   "id": "82434c80-f900-41f4-a69f-04a600822dc3",
   "metadata": {},
   "outputs": [],
   "source": [
    "#imputing the values for launch_angle\n",
    "data_frame['launch_angle']=data_frame['launch_angle'].fillna(data_frame['launch_angle'].mode()[0],axis=0)"
   ]
  },
  {
   "cell_type": "code",
   "execution_count": 230,
   "id": "e04ba894-f039-44e2-b1e7-553755fea24f",
   "metadata": {},
   "outputs": [
    {
     "data": {
      "text/plain": [
       "bb_type\n",
       "line_drive     2523\n",
       "fly_ball       2491\n",
       "ground_ball    2399\n",
       "popup           481\n",
       "Name: count, dtype: int64"
      ]
     },
     "execution_count": 230,
     "metadata": {},
     "output_type": "execute_result"
    }
   ],
   "source": [
    "#handling the missing values for bb_type\n",
    "data_frame['bb_type'].value_counts()"
   ]
  },
  {
   "cell_type": "code",
   "execution_count": 231,
   "id": "850200f3-4060-4ab4-ba8a-019835946118",
   "metadata": {},
   "outputs": [],
   "source": [
    "#replacing the null values in the bb_type column with the most frequent label in bb_type\n",
    "data_frame['bb_type']=data_frame['bb_type'].fillna('ground_ball').isnull().sum()"
   ]
  },
  {
   "cell_type": "code",
   "execution_count": 232,
   "id": "6c47449d-e0e0-418b-8d83-439d2d897440",
   "metadata": {},
   "outputs": [],
   "source": [
    "#checking the null values again"
   ]
  },
  {
   "cell_type": "code",
   "execution_count": 233,
   "id": "d155bd5b-3a01-4e70-bd24-808008117adb",
   "metadata": {},
   "outputs": [
    {
     "data": {
      "text/html": [
       "<div>\n",
       "<style scoped>\n",
       "    .dataframe tbody tr th:only-of-type {\n",
       "        vertical-align: middle;\n",
       "    }\n",
       "\n",
       "    .dataframe tbody tr th {\n",
       "        vertical-align: top;\n",
       "    }\n",
       "\n",
       "    .dataframe thead th {\n",
       "        text-align: right;\n",
       "    }\n",
       "</style>\n",
       "<table border=\"1\" class=\"dataframe\">\n",
       "  <thead>\n",
       "    <tr style=\"text-align: right;\">\n",
       "      <th></th>\n",
       "      <th>Column</th>\n",
       "      <th>Percentage</th>\n",
       "    </tr>\n",
       "  </thead>\n",
       "  <tbody>\n",
       "  </tbody>\n",
       "</table>\n",
       "</div>"
      ],
      "text/plain": [
       "Empty DataFrame\n",
       "Columns: [Column, Percentage]\n",
       "Index: []"
      ]
     },
     "execution_count": 233,
     "metadata": {},
     "output_type": "execute_result"
    }
   ],
   "source": [
    "null_count_gen(data_frame)"
   ]
  },
  {
   "cell_type": "code",
   "execution_count": 234,
   "id": "df636919-fde5-4ee3-88a7-f79755ba3cab",
   "metadata": {},
   "outputs": [],
   "source": [
    "#there are no more null values in the dataframe"
   ]
  },
  {
   "cell_type": "markdown",
   "id": "411de45e-14c7-4ea5-8504-e753773051a1",
   "metadata": {},
   "source": [
    "### Outlier removal"
   ]
  },
  {
   "cell_type": "code",
   "execution_count": 235,
   "id": "61e5f8eb-a742-4d1d-8a52-cacd48d461e9",
   "metadata": {},
   "outputs": [
    {
     "data": {
      "text/html": [
       "<div>\n",
       "<style scoped>\n",
       "    .dataframe tbody tr th:only-of-type {\n",
       "        vertical-align: middle;\n",
       "    }\n",
       "\n",
       "    .dataframe tbody tr th {\n",
       "        vertical-align: top;\n",
       "    }\n",
       "\n",
       "    .dataframe thead th {\n",
       "        text-align: right;\n",
       "    }\n",
       "</style>\n",
       "<table border=\"1\" class=\"dataframe\">\n",
       "  <thead>\n",
       "    <tr style=\"text-align: right;\">\n",
       "      <th></th>\n",
       "      <th>batter_id</th>\n",
       "      <th>pitcher_id</th>\n",
       "      <th>is_batter_lefty</th>\n",
       "      <th>is_pitcher_lefty</th>\n",
       "      <th>bb_type</th>\n",
       "      <th>park</th>\n",
       "      <th>inning</th>\n",
       "      <th>outs_when_up</th>\n",
       "      <th>balls</th>\n",
       "      <th>strikes</th>\n",
       "      <th>plate_x</th>\n",
       "      <th>plate_z</th>\n",
       "      <th>pitch_mph</th>\n",
       "      <th>launch_speed</th>\n",
       "      <th>launch_angle</th>\n",
       "      <th>is_home_run</th>\n",
       "    </tr>\n",
       "  </thead>\n",
       "  <tbody>\n",
       "    <tr>\n",
       "      <th>0</th>\n",
       "      <td>596115</td>\n",
       "      <td>592662</td>\n",
       "      <td>0</td>\n",
       "      <td>1</td>\n",
       "      <td>0</td>\n",
       "      <td>7</td>\n",
       "      <td>1</td>\n",
       "      <td>1</td>\n",
       "      <td>0</td>\n",
       "      <td>1</td>\n",
       "      <td>-0.65</td>\n",
       "      <td>2.09</td>\n",
       "      <td>89.5</td>\n",
       "      <td>105.4</td>\n",
       "      <td>28.0</td>\n",
       "      <td>1</td>\n",
       "    </tr>\n",
       "    <tr>\n",
       "      <th>1</th>\n",
       "      <td>608369</td>\n",
       "      <td>592662</td>\n",
       "      <td>1</td>\n",
       "      <td>1</td>\n",
       "      <td>0</td>\n",
       "      <td>0</td>\n",
       "      <td>2</td>\n",
       "      <td>0</td>\n",
       "      <td>1</td>\n",
       "      <td>1</td>\n",
       "      <td>-0.26</td>\n",
       "      <td>3.01</td>\n",
       "      <td>84.8</td>\n",
       "      <td>104.9</td>\n",
       "      <td>28.0</td>\n",
       "      <td>1</td>\n",
       "    </tr>\n",
       "    <tr>\n",
       "      <th>2</th>\n",
       "      <td>572041</td>\n",
       "      <td>592662</td>\n",
       "      <td>0</td>\n",
       "      <td>1</td>\n",
       "      <td>0</td>\n",
       "      <td>0</td>\n",
       "      <td>1</td>\n",
       "      <td>2</td>\n",
       "      <td>1</td>\n",
       "      <td>1</td>\n",
       "      <td>-0.42</td>\n",
       "      <td>2.98</td>\n",
       "      <td>92.1</td>\n",
       "      <td>101.7</td>\n",
       "      <td>38.0</td>\n",
       "      <td>1</td>\n",
       "    </tr>\n",
       "    <tr>\n",
       "      <th>3</th>\n",
       "      <td>543807</td>\n",
       "      <td>592662</td>\n",
       "      <td>0</td>\n",
       "      <td>1</td>\n",
       "      <td>0</td>\n",
       "      <td>0</td>\n",
       "      <td>5</td>\n",
       "      <td>0</td>\n",
       "      <td>3</td>\n",
       "      <td>1</td>\n",
       "      <td>-0.40</td>\n",
       "      <td>2.76</td>\n",
       "      <td>94.0</td>\n",
       "      <td>104.5</td>\n",
       "      <td>24.0</td>\n",
       "      <td>1</td>\n",
       "    </tr>\n",
       "    <tr>\n",
       "      <th>4</th>\n",
       "      <td>663656</td>\n",
       "      <td>592662</td>\n",
       "      <td>1</td>\n",
       "      <td>1</td>\n",
       "      <td>0</td>\n",
       "      <td>0</td>\n",
       "      <td>2</td>\n",
       "      <td>0</td>\n",
       "      <td>1</td>\n",
       "      <td>1</td>\n",
       "      <td>-0.04</td>\n",
       "      <td>2.16</td>\n",
       "      <td>93.8</td>\n",
       "      <td>105.4</td>\n",
       "      <td>27.0</td>\n",
       "      <td>1</td>\n",
       "    </tr>\n",
       "  </tbody>\n",
       "</table>\n",
       "</div>"
      ],
      "text/plain": [
       "   batter_id  pitcher_id  is_batter_lefty  is_pitcher_lefty  bb_type  park  \\\n",
       "0     596115      592662                0                 1        0     7   \n",
       "1     608369      592662                1                 1        0     0   \n",
       "2     572041      592662                0                 1        0     0   \n",
       "3     543807      592662                0                 1        0     0   \n",
       "4     663656      592662                1                 1        0     0   \n",
       "\n",
       "   inning  outs_when_up  balls  strikes  plate_x  plate_z  pitch_mph  \\\n",
       "0       1             1      0        1    -0.65     2.09       89.5   \n",
       "1       2             0      1        1    -0.26     3.01       84.8   \n",
       "2       1             2      1        1    -0.42     2.98       92.1   \n",
       "3       5             0      3        1    -0.40     2.76       94.0   \n",
       "4       2             0      1        1    -0.04     2.16       93.8   \n",
       "\n",
       "   launch_speed  launch_angle  is_home_run  \n",
       "0         105.4          28.0            1  \n",
       "1         104.9          28.0            1  \n",
       "2         101.7          38.0            1  \n",
       "3         104.5          24.0            1  \n",
       "4         105.4          27.0            1  "
      ]
     },
     "execution_count": 235,
     "metadata": {},
     "output_type": "execute_result"
    }
   ],
   "source": [
    "#Checking the outliers in the numerical features\n",
    "num_data = data_frame.select_dtypes(include=['int','float'])\n",
    "num_data.head()"
   ]
  },
  {
   "cell_type": "code",
   "execution_count": 236,
   "id": "8c4b7e8d-dbd2-4894-b10d-22f933b6eb37",
   "metadata": {},
   "outputs": [],
   "source": [
    "#we are going to check the outliers only for the continous features"
   ]
  },
  {
   "cell_type": "code",
   "execution_count": 237,
   "id": "7454f4e0-0f37-44b4-9bd4-1fa7d8115e2d",
   "metadata": {},
   "outputs": [
    {
     "name": "stdout",
     "output_type": "stream",
     "text": [
      "batter_id: 482\n",
      "pitcher_id: 601\n",
      "is_batter_lefty: 2\n",
      "is_pitcher_lefty: 2\n",
      "bb_type: 1\n",
      "park: 30\n",
      "inning: 13\n",
      "outs_when_up: 3\n",
      "balls: 4\n",
      "strikes: 3\n",
      "plate_x: 299\n",
      "plate_z: 321\n",
      "pitch_mph: 307\n",
      "launch_speed: 684\n",
      "launch_angle: 172\n",
      "is_home_run: 2\n"
     ]
    }
   ],
   "source": [
    "for col in num_data.columns:\n",
    "    #getting the length of distinct values\n",
    "    length = len(data_frame[col].value_counts())\n",
    "    print(f'{col}: {length}')"
   ]
  },
  {
   "cell_type": "code",
   "execution_count": 238,
   "id": "accf36b9-c43a-4971-9b25-ee1b4dbb75c6",
   "metadata": {},
   "outputs": [],
   "source": [
    "#we are going to consider the continous features such as plate_x, plate_z, pitch_mph, launch_speed, launch_angle for checking the outliers"
   ]
  },
  {
   "cell_type": "code",
   "execution_count": 239,
   "id": "4d0036d4-6651-48b5-a438-8e6a0ec2576e",
   "metadata": {},
   "outputs": [],
   "source": [
    "num_cols_to_consider =['plate_x', 'plate_z', 'pitch_mph', 'launch_speed', 'launch_angle']"
   ]
  },
  {
   "cell_type": "code",
   "execution_count": 240,
   "id": "2d194b88-f69c-466a-ae67-29dc165c56c9",
   "metadata": {},
   "outputs": [],
   "source": [
    "#Since the values aren't changed before and after transforming the values, we aren't imputing a outlier removal techniques"
   ]
  },
  {
   "cell_type": "markdown",
   "id": "2541bf3c-44d6-4504-b6fb-a9f078ad9856",
   "metadata": {},
   "source": [
    "### Encoding the string features to numericals"
   ]
  },
  {
   "cell_type": "code",
   "execution_count": 241,
   "id": "3b99888f-f38b-4dec-a37a-4c8da841bbed",
   "metadata": {},
   "outputs": [],
   "source": [
    "object_data=data_frame.select_dtypes(['object'])"
   ]
  },
  {
   "cell_type": "code",
   "execution_count": 242,
   "id": "505d46d9-48a5-4ecb-bba5-6025ede812a4",
   "metadata": {},
   "outputs": [
    {
     "data": {
      "text/html": [
       "<div>\n",
       "<style scoped>\n",
       "    .dataframe tbody tr th:only-of-type {\n",
       "        vertical-align: middle;\n",
       "    }\n",
       "\n",
       "    .dataframe tbody tr th {\n",
       "        vertical-align: top;\n",
       "    }\n",
       "\n",
       "    .dataframe thead th {\n",
       "        text-align: right;\n",
       "    }\n",
       "</style>\n",
       "<table border=\"1\" class=\"dataframe\">\n",
       "  <thead>\n",
       "    <tr style=\"text-align: right;\">\n",
       "      <th></th>\n",
       "      <th>home_team</th>\n",
       "      <th>away_team</th>\n",
       "      <th>batter_team</th>\n",
       "      <th>bearing</th>\n",
       "      <th>pitch_name</th>\n",
       "    </tr>\n",
       "  </thead>\n",
       "  <tbody>\n",
       "    <tr>\n",
       "      <th>0</th>\n",
       "      <td>COL</td>\n",
       "      <td>ARI</td>\n",
       "      <td>COL</td>\n",
       "      <td>left</td>\n",
       "      <td>Changeup</td>\n",
       "    </tr>\n",
       "    <tr>\n",
       "      <th>1</th>\n",
       "      <td>ARI</td>\n",
       "      <td>LAD</td>\n",
       "      <td>LAD</td>\n",
       "      <td>right</td>\n",
       "      <td>Slider</td>\n",
       "    </tr>\n",
       "    <tr>\n",
       "      <th>2</th>\n",
       "      <td>ARI</td>\n",
       "      <td>LAD</td>\n",
       "      <td>LAD</td>\n",
       "      <td>left</td>\n",
       "      <td>4-Seam Fastball</td>\n",
       "    </tr>\n",
       "    <tr>\n",
       "      <th>3</th>\n",
       "      <td>ARI</td>\n",
       "      <td>HOU</td>\n",
       "      <td>HOU</td>\n",
       "      <td>left</td>\n",
       "      <td>4-Seam Fastball</td>\n",
       "    </tr>\n",
       "    <tr>\n",
       "      <th>4</th>\n",
       "      <td>ARI</td>\n",
       "      <td>HOU</td>\n",
       "      <td>HOU</td>\n",
       "      <td>center</td>\n",
       "      <td>4-Seam Fastball</td>\n",
       "    </tr>\n",
       "  </tbody>\n",
       "</table>\n",
       "</div>"
      ],
      "text/plain": [
       "  home_team away_team batter_team bearing       pitch_name\n",
       "0       COL       ARI         COL    left         Changeup\n",
       "1       ARI       LAD         LAD   right           Slider\n",
       "2       ARI       LAD         LAD    left  4-Seam Fastball\n",
       "3       ARI       HOU         HOU    left  4-Seam Fastball\n",
       "4       ARI       HOU         HOU  center  4-Seam Fastball"
      ]
     },
     "execution_count": 242,
     "metadata": {},
     "output_type": "execute_result"
    }
   ],
   "source": [
    "object_data.head()"
   ]
  },
  {
   "cell_type": "markdown",
   "id": "ea1be67f-ac33-41ab-9c22-48ce42c699af",
   "metadata": {},
   "source": [
    "### We will perform label encoding techniques to covert the string values in the string features to numericals"
   ]
  },
  {
   "cell_type": "code",
   "execution_count": 243,
   "id": "a2118c54-9d0f-4cec-b368-34959152781c",
   "metadata": {},
   "outputs": [
    {
     "name": "stdout",
     "output_type": "stream",
     "text": [
      "home_team\n",
      "--------\n",
      "{'LAD': 1, 'OAK': 2, 'HOU': 3, 'ARI': 4, 'SD': 5, 'TEX': 6, 'SEA': 7, 'LAA': 8, 'COL': 9, 'SF': 10, 'TB': 11, 'ATL': 12, 'CLE': 13, 'CIN': 14, 'NYY': 15, 'MIN': 16, 'TOR': 17, 'BOS': 18, 'NYM': 19, 'PHI': 20, 'CWS': 21, 'BAL': 22, 'MIL': 23, 'KC': 24, 'MIA': 25, 'WSH': 26, 'CHC': 27, 'DET': 28, 'PIT': 29, 'STL': 30}\n",
      "away_team\n",
      "--------\n",
      "{'LAD': 1, 'HOU': 2, 'OAK': 3, 'TEX': 4, 'SD': 5, 'ARI': 6, 'COL': 7, 'SEA': 8, 'LAA': 9, 'SF': 10, 'ATL': 11, 'TB': 12, 'CWS': 13, 'TOR': 14, 'MIL': 15, 'MIN': 16, 'NYY': 17, 'KC': 18, 'CHC': 19, 'MIA': 20, 'WSH': 21, 'DET': 22, 'BOS': 23, 'CLE': 24, 'NYM': 25, 'PIT': 26, 'STL': 27, 'PHI': 28, 'BAL': 29, 'CIN': 30}\n",
      "batter_team\n",
      "--------\n",
      "{'COL': 1, 'LAA': 2, 'SD': 3, 'HOU': 4, 'SF': 5, 'LAD': 6, 'ARI': 7, 'SEA': 8, 'TEX': 9, 'OAK': 10, 'TB': 11, 'ATL': 12, 'MIN': 13, 'CWS': 14, 'NYY': 15, 'MIL': 16, 'CIN': 17, 'NYM': 18, 'KC': 19, 'PHI': 20, 'BOS': 21, 'TOR': 22, 'CHC': 23, 'BAL': 24, 'MIA': 25, 'STL': 26, 'PIT': 27, 'DET': 28, 'WSH': 29, 'CLE': 30}\n",
      "bearing\n",
      "--------\n",
      "{'center': 1, 'left': 2, 'right': 3}\n",
      "pitch_name\n",
      "--------\n",
      "{'4-Seam Fastball': 1, 'Sinker': 2, 'Slider': 3, 'Changeup': 4, 'Cutter': 5, 'Curveball': 6, 'Split-Finger': 7, 'Knuckle Curve': 8}\n"
     ]
    }
   ],
   "source": [
    "for col  in object_data.columns:\n",
    "    ranking = data_frame[col].value_counts().index\n",
    "    mapping = {i:k for k,i in enumerate(ranking,1)}\n",
    "    data_frame[col] = data_frame[col].map(mapping)\n",
    "    print(col)\n",
    "    print('--------')\n",
    "    print(mapping)\n",
    "        "
   ]
  },
  {
   "cell_type": "markdown",
   "id": "cc559090-6ee9-4bf8-9318-5ec95ea76def",
   "metadata": {},
   "source": [
    "### Transforming the data"
   ]
  },
  {
   "cell_type": "markdown",
   "id": "3137d74a-4f32-401c-8a27-6c7f0af5d4af",
   "metadata": {},
   "source": [
    "### Let us use standard scaling for standardization"
   ]
  },
  {
   "cell_type": "code",
   "execution_count": 244,
   "id": "6714ba22-2fae-4573-8242-1cd1a51c4935",
   "metadata": {},
   "outputs": [],
   "source": [
    "from sklearn.preprocessing import StandardScaler\n",
    "scaler = StandardScaler()"
   ]
  },
  {
   "cell_type": "code",
   "execution_count": 245,
   "id": "9f400be2-9b19-405c-b54d-12ff8b2df8b6",
   "metadata": {},
   "outputs": [],
   "source": [
    "x = pd.DataFrame(scaler.fit_transform(data_frame.iloc[:,:-1]),columns = data_frame.iloc[:,:-1].columns)\n",
    "y = data_frame.iloc[:,-1]"
   ]
  },
  {
   "cell_type": "markdown",
   "id": "b3b0857e-326d-423c-b133-1875b11cc637",
   "metadata": {},
   "source": [
    "### Feature Selection "
   ]
  },
  {
   "cell_type": "code",
   "execution_count": 246,
   "id": "9e5f053f-8162-4b3d-a944-aad12b070413",
   "metadata": {},
   "outputs": [],
   "source": [
    "from sklearn.feature_selection import SelectKBest, f_classif"
   ]
  },
  {
   "cell_type": "code",
   "execution_count": 247,
   "id": "14d9ca7f-6a60-41d5-9369-12e1ebc76424",
   "metadata": {},
   "outputs": [
    {
     "data": {
      "text/plain": [
       "(7894, 20)"
      ]
     },
     "execution_count": 247,
     "metadata": {},
     "output_type": "execute_result"
    }
   ],
   "source": [
    "x.shape"
   ]
  },
  {
   "cell_type": "code",
   "execution_count": 248,
   "id": "322c927f-a708-450c-8158-9a1abbb2bf22",
   "metadata": {},
   "outputs": [],
   "source": [
    "final_x_data = SelectKBest(f_classif, k=10).fit(x, y)"
   ]
  },
  {
   "cell_type": "code",
   "execution_count": 249,
   "id": "40c47c94-97d9-4a22-bc81-84d58508501a",
   "metadata": {},
   "outputs": [],
   "source": [
    "sort_scores_df=pd.DataFrame({'feature_name':final_x_data.feature_names_in_,'score':final_x_data.scores_}).sort_values('score',ascending=False)"
   ]
  },
  {
   "cell_type": "code",
   "execution_count": 250,
   "id": "a2d440a8-9967-4bff-ac7a-ef546c6a32f7",
   "metadata": {},
   "outputs": [
    {
     "data": {
      "text/html": [
       "<div>\n",
       "<style scoped>\n",
       "    .dataframe tbody tr th:only-of-type {\n",
       "        vertical-align: middle;\n",
       "    }\n",
       "\n",
       "    .dataframe tbody tr th {\n",
       "        vertical-align: top;\n",
       "    }\n",
       "\n",
       "    .dataframe thead th {\n",
       "        text-align: right;\n",
       "    }\n",
       "</style>\n",
       "<table border=\"1\" class=\"dataframe\">\n",
       "  <thead>\n",
       "    <tr style=\"text-align: right;\">\n",
       "      <th></th>\n",
       "      <th>feature_name</th>\n",
       "      <th>score</th>\n",
       "    </tr>\n",
       "  </thead>\n",
       "  <tbody>\n",
       "    <tr>\n",
       "      <th>0</th>\n",
       "      <td>home_team</td>\n",
       "      <td>5162.112002</td>\n",
       "    </tr>\n",
       "    <tr>\n",
       "      <th>1</th>\n",
       "      <td>away_team</td>\n",
       "      <td>4338.837822</td>\n",
       "    </tr>\n",
       "    <tr>\n",
       "      <th>2</th>\n",
       "      <td>batter_team</td>\n",
       "      <td>3775.224807</td>\n",
       "    </tr>\n",
       "    <tr>\n",
       "      <th>18</th>\n",
       "      <td>launch_speed</td>\n",
       "      <td>1714.992918</td>\n",
       "    </tr>\n",
       "    <tr>\n",
       "      <th>19</th>\n",
       "      <td>launch_angle</td>\n",
       "      <td>454.394250</td>\n",
       "    </tr>\n",
       "    <tr>\n",
       "      <th>8</th>\n",
       "      <td>bearing</td>\n",
       "      <td>203.394756</td>\n",
       "    </tr>\n",
       "    <tr>\n",
       "      <th>16</th>\n",
       "      <td>plate_z</td>\n",
       "      <td>128.598805</td>\n",
       "    </tr>\n",
       "    <tr>\n",
       "      <th>6</th>\n",
       "      <td>is_pitcher_lefty</td>\n",
       "      <td>65.473126</td>\n",
       "    </tr>\n",
       "    <tr>\n",
       "      <th>14</th>\n",
       "      <td>strikes</td>\n",
       "      <td>42.867583</td>\n",
       "    </tr>\n",
       "    <tr>\n",
       "      <th>10</th>\n",
       "      <td>park</td>\n",
       "      <td>22.753504</td>\n",
       "    </tr>\n",
       "  </tbody>\n",
       "</table>\n",
       "</div>"
      ],
      "text/plain": [
       "        feature_name        score\n",
       "0          home_team  5162.112002\n",
       "1          away_team  4338.837822\n",
       "2        batter_team  3775.224807\n",
       "18      launch_speed  1714.992918\n",
       "19      launch_angle   454.394250\n",
       "8            bearing   203.394756\n",
       "16           plate_z   128.598805\n",
       "6   is_pitcher_lefty    65.473126\n",
       "14           strikes    42.867583\n",
       "10              park    22.753504"
      ]
     },
     "execution_count": 250,
     "metadata": {},
     "output_type": "execute_result"
    }
   ],
   "source": [
    "sort_scores_df.head(10)"
   ]
  },
  {
   "cell_type": "code",
   "execution_count": 251,
   "id": "aaf0edf2-8c58-4d08-8bf4-310200166901",
   "metadata": {},
   "outputs": [
    {
     "data": {
      "text/plain": [
       "['home_team',\n",
       " 'away_team',\n",
       " 'batter_team',\n",
       " 'launch_speed',\n",
       " 'launch_angle',\n",
       " 'bearing',\n",
       " 'plate_z',\n",
       " 'is_pitcher_lefty',\n",
       " 'strikes',\n",
       " 'park']"
      ]
     },
     "execution_count": 251,
     "metadata": {},
     "output_type": "execute_result"
    }
   ],
   "source": [
    "list(sort_scores_df.head(10)['feature_name'])"
   ]
  },
  {
   "cell_type": "code",
   "execution_count": 252,
   "id": "d0aa50cf-7ea1-48b1-8f5e-506dd82e249e",
   "metadata": {},
   "outputs": [
    {
     "name": "stdout",
     "output_type": "stream",
     "text": [
      "['home_team', 'away_team', 'batter_team', 'launch_speed', 'launch_angle', 'bearing', 'plate_z', 'is_pitcher_lefty', 'strikes', 'park']\n"
     ]
    }
   ],
   "source": [
    "final_cols = list(sort_scores_df.head(10)['feature_name'])\n",
    "print(final_cols)\n",
    "final_x_data.columns = final_cols\n",
    "final_x_data_input = x[final_cols]"
   ]
  },
  {
   "cell_type": "code",
   "execution_count": 253,
   "id": "e3fa632f-b874-4f43-af9a-2e67796b2adf",
   "metadata": {},
   "outputs": [],
   "source": [
    "final_data = pd.concat([x[final_cols],y],axis=1)\n",
    "final_data.to_csv('final_input_data.csv',index=False)"
   ]
  },
  {
   "cell_type": "code",
   "execution_count": 254,
   "id": "f5474546-cbd3-4cd0-9309-638e9b2f8950",
   "metadata": {},
   "outputs": [
    {
     "data": {
      "text/html": [
       "<div>\n",
       "<style scoped>\n",
       "    .dataframe tbody tr th:only-of-type {\n",
       "        vertical-align: middle;\n",
       "    }\n",
       "\n",
       "    .dataframe tbody tr th {\n",
       "        vertical-align: top;\n",
       "    }\n",
       "\n",
       "    .dataframe thead th {\n",
       "        text-align: right;\n",
       "    }\n",
       "</style>\n",
       "<table border=\"1\" class=\"dataframe\">\n",
       "  <thead>\n",
       "    <tr style=\"text-align: right;\">\n",
       "      <th></th>\n",
       "      <th>home_team</th>\n",
       "      <th>away_team</th>\n",
       "      <th>batter_team</th>\n",
       "      <th>launch_speed</th>\n",
       "      <th>launch_angle</th>\n",
       "      <th>bearing</th>\n",
       "      <th>plate_z</th>\n",
       "      <th>is_pitcher_lefty</th>\n",
       "      <th>strikes</th>\n",
       "      <th>park</th>\n",
       "      <th>is_home_run</th>\n",
       "    </tr>\n",
       "  </thead>\n",
       "  <tbody>\n",
       "    <tr>\n",
       "      <th>0</th>\n",
       "      <td>0.135823</td>\n",
       "      <td>-0.310392</td>\n",
       "      <td>-1.084540</td>\n",
       "      <td>0.763297</td>\n",
       "      <td>0.319626</td>\n",
       "      <td>0.330549</td>\n",
       "      <td>-0.496708</td>\n",
       "      <td>1.409524</td>\n",
       "      <td>-0.098124</td>\n",
       "      <td>-0.959282</td>\n",
       "      <td>1</td>\n",
       "    </tr>\n",
       "    <tr>\n",
       "      <th>1</th>\n",
       "      <td>-0.564859</td>\n",
       "      <td>-0.983792</td>\n",
       "      <td>-0.373853</td>\n",
       "      <td>0.726278</td>\n",
       "      <td>0.319626</td>\n",
       "      <td>1.615312</td>\n",
       "      <td>1.188717</td>\n",
       "      <td>1.409524</td>\n",
       "      <td>-0.098124</td>\n",
       "      <td>-1.808714</td>\n",
       "      <td>1</td>\n",
       "    </tr>\n",
       "    <tr>\n",
       "      <th>2</th>\n",
       "      <td>-0.564859</td>\n",
       "      <td>-0.983792</td>\n",
       "      <td>-0.373853</td>\n",
       "      <td>0.489354</td>\n",
       "      <td>0.764865</td>\n",
       "      <td>0.330549</td>\n",
       "      <td>1.133757</td>\n",
       "      <td>1.409524</td>\n",
       "      <td>-0.098124</td>\n",
       "      <td>-1.808714</td>\n",
       "      <td>1</td>\n",
       "    </tr>\n",
       "    <tr>\n",
       "      <th>3</th>\n",
       "      <td>-0.564859</td>\n",
       "      <td>-0.849112</td>\n",
       "      <td>-0.658128</td>\n",
       "      <td>0.696662</td>\n",
       "      <td>0.141530</td>\n",
       "      <td>0.330549</td>\n",
       "      <td>0.730721</td>\n",
       "      <td>1.409524</td>\n",
       "      <td>-0.098124</td>\n",
       "      <td>-1.808714</td>\n",
       "      <td>1</td>\n",
       "    </tr>\n",
       "    <tr>\n",
       "      <th>4</th>\n",
       "      <td>-0.564859</td>\n",
       "      <td>-0.849112</td>\n",
       "      <td>-0.658128</td>\n",
       "      <td>0.763297</td>\n",
       "      <td>0.275102</td>\n",
       "      <td>-0.954214</td>\n",
       "      <td>-0.368469</td>\n",
       "      <td>1.409524</td>\n",
       "      <td>-0.098124</td>\n",
       "      <td>-1.808714</td>\n",
       "      <td>1</td>\n",
       "    </tr>\n",
       "    <tr>\n",
       "      <th>...</th>\n",
       "      <td>...</td>\n",
       "      <td>...</td>\n",
       "      <td>...</td>\n",
       "      <td>...</td>\n",
       "      <td>...</td>\n",
       "      <td>...</td>\n",
       "      <td>...</td>\n",
       "      <td>...</td>\n",
       "      <td>...</td>\n",
       "      <td>...</td>\n",
       "      <td>...</td>\n",
       "    </tr>\n",
       "    <tr>\n",
       "      <th>7889</th>\n",
       "      <td>2.798414</td>\n",
       "      <td>2.113848</td>\n",
       "      <td>2.753168</td>\n",
       "      <td>0.607816</td>\n",
       "      <td>0.853913</td>\n",
       "      <td>-0.954214</td>\n",
       "      <td>-0.185271</td>\n",
       "      <td>-0.709459</td>\n",
       "      <td>1.129436</td>\n",
       "      <td>-0.716587</td>\n",
       "      <td>0</td>\n",
       "    </tr>\n",
       "    <tr>\n",
       "      <th>7890</th>\n",
       "      <td>2.658278</td>\n",
       "      <td>2.113848</td>\n",
       "      <td>2.042481</td>\n",
       "      <td>0.607816</td>\n",
       "      <td>1.165581</td>\n",
       "      <td>1.615312</td>\n",
       "      <td>-0.716546</td>\n",
       "      <td>-0.709459</td>\n",
       "      <td>-0.098124</td>\n",
       "      <td>-1.323324</td>\n",
       "      <td>0</td>\n",
       "    </tr>\n",
       "    <tr>\n",
       "      <th>7891</th>\n",
       "      <td>2.658278</td>\n",
       "      <td>2.113848</td>\n",
       "      <td>2.042481</td>\n",
       "      <td>0.200602</td>\n",
       "      <td>-0.081090</td>\n",
       "      <td>-0.954214</td>\n",
       "      <td>-0.624947</td>\n",
       "      <td>-0.709459</td>\n",
       "      <td>1.129436</td>\n",
       "      <td>-1.323324</td>\n",
       "      <td>0</td>\n",
       "    </tr>\n",
       "    <tr>\n",
       "      <th>7892</th>\n",
       "      <td>0.696368</td>\n",
       "      <td>2.383207</td>\n",
       "      <td>2.611031</td>\n",
       "      <td>-1.539308</td>\n",
       "      <td>0.319626</td>\n",
       "      <td>1.615312</td>\n",
       "      <td>1.225356</td>\n",
       "      <td>-0.709459</td>\n",
       "      <td>-0.098124</td>\n",
       "      <td>-1.080629</td>\n",
       "      <td>0</td>\n",
       "    </tr>\n",
       "    <tr>\n",
       "      <th>7893</th>\n",
       "      <td>0.696368</td>\n",
       "      <td>0.632368</td>\n",
       "      <td>0.763245</td>\n",
       "      <td>0.607816</td>\n",
       "      <td>-1.149664</td>\n",
       "      <td>0.330549</td>\n",
       "      <td>0.217766</td>\n",
       "      <td>-0.709459</td>\n",
       "      <td>-1.325683</td>\n",
       "      <td>-1.080629</td>\n",
       "      <td>0</td>\n",
       "    </tr>\n",
       "  </tbody>\n",
       "</table>\n",
       "<p>7894 rows × 11 columns</p>\n",
       "</div>"
      ],
      "text/plain": [
       "      home_team  away_team  batter_team  launch_speed  launch_angle   bearing  \\\n",
       "0      0.135823  -0.310392    -1.084540      0.763297      0.319626  0.330549   \n",
       "1     -0.564859  -0.983792    -0.373853      0.726278      0.319626  1.615312   \n",
       "2     -0.564859  -0.983792    -0.373853      0.489354      0.764865  0.330549   \n",
       "3     -0.564859  -0.849112    -0.658128      0.696662      0.141530  0.330549   \n",
       "4     -0.564859  -0.849112    -0.658128      0.763297      0.275102 -0.954214   \n",
       "...         ...        ...          ...           ...           ...       ...   \n",
       "7889   2.798414   2.113848     2.753168      0.607816      0.853913 -0.954214   \n",
       "7890   2.658278   2.113848     2.042481      0.607816      1.165581  1.615312   \n",
       "7891   2.658278   2.113848     2.042481      0.200602     -0.081090 -0.954214   \n",
       "7892   0.696368   2.383207     2.611031     -1.539308      0.319626  1.615312   \n",
       "7893   0.696368   0.632368     0.763245      0.607816     -1.149664  0.330549   \n",
       "\n",
       "       plate_z  is_pitcher_lefty   strikes      park  is_home_run  \n",
       "0    -0.496708          1.409524 -0.098124 -0.959282            1  \n",
       "1     1.188717          1.409524 -0.098124 -1.808714            1  \n",
       "2     1.133757          1.409524 -0.098124 -1.808714            1  \n",
       "3     0.730721          1.409524 -0.098124 -1.808714            1  \n",
       "4    -0.368469          1.409524 -0.098124 -1.808714            1  \n",
       "...        ...               ...       ...       ...          ...  \n",
       "7889 -0.185271         -0.709459  1.129436 -0.716587            0  \n",
       "7890 -0.716546         -0.709459 -0.098124 -1.323324            0  \n",
       "7891 -0.624947         -0.709459  1.129436 -1.323324            0  \n",
       "7892  1.225356         -0.709459 -0.098124 -1.080629            0  \n",
       "7893  0.217766         -0.709459 -1.325683 -1.080629            0  \n",
       "\n",
       "[7894 rows x 11 columns]"
      ]
     },
     "execution_count": 254,
     "metadata": {},
     "output_type": "execute_result"
    }
   ],
   "source": [
    "final_data"
   ]
  }
 ],
 "metadata": {
  "kernelspec": {
   "display_name": "Python 3 (ipykernel)",
   "language": "python",
   "name": "python3"
  },
  "language_info": {
   "codemirror_mode": {
    "name": "ipython",
    "version": 3
   },
   "file_extension": ".py",
   "mimetype": "text/x-python",
   "name": "python",
   "nbconvert_exporter": "python",
   "pygments_lexer": "ipython3",
   "version": "3.12.1"
  }
 },
 "nbformat": 4,
 "nbformat_minor": 5
}
